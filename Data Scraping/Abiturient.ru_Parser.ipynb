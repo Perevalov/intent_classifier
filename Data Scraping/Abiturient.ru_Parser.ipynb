{
 "cells": [
  {
   "cell_type": "code",
   "execution_count": 5,
   "metadata": {},
   "outputs": [],
   "source": [
    "import urllib\n",
    "from bs4 import BeautifulSoup"
   ]
  },
  {
   "cell_type": "code",
   "execution_count": 6,
   "metadata": {},
   "outputs": [],
   "source": [
    "label_url_dict = {\"Вопросы по поступлению_1\":\"https://www.abiturient.ru/forum/forum9/topic1202/?PAGEN_1=1\",\n",
    "                 \"Вопросы по поступлению_2\":\"https://www.abiturient.ru/forum/forum9/topic1202/?PAGEN_1=2\",\n",
    "                 \"Списки зачисления\":\"https://www.abiturient.ru/forum/forum9/topic3023/\",\n",
    "                  \"Документы по поступлению_1\":\"https://www.abiturient.ru/forum/forum9/topic846/?PAGEN_1=1\",\n",
    "                  \"Документы по поступлению_2\":\"https://www.abiturient.ru/forum/forum9/topic846/?PAGEN_1=2\",\n",
    "                  \"Поступление по направлению\":\"https://www.abiturient.ru/forum/forum9/topic69/\",\n",
    "                  \"Таблица онлайн_1\":\"https://www.abiturient.ru/forum/forum9/topic180/?PAGEN_1=1\",\n",
    "                  \"Таблица онлайн_2\":\"https://www.abiturient.ru/forum/forum9/topic180/?PAGEN_1=2\",\n",
    "                  \"Таблица онлайн_3\":\"https://www.abiturient.ru/forum/forum9/topic180/?PAGEN_1=3\",\n",
    "                  \"Таблица онлайн_4\":\"https://www.abiturient.ru/forum/forum9/topic180/?PAGEN_1=4\",\n",
    "                  \"Электронный вид\":\"https://www.abiturient.ru/forum/forum9/topic174/\",\n",
    "                  \"Прием документов_1\":\"https://www.abiturient.ru/forum/forum9/topic223/?PAGEN_1=1\",\n",
    "                  \"Прием документов_2\":\"https://www.abiturient.ru/forum/forum9/topic223/?PAGEN_1=2\",\n",
    "                  \"Прием документов_3\":\"https://www.abiturient.ru/forum/forum9/topic223/?PAGEN_1=3\",\n",
    "                  \"Прием документов_4\":\"https://www.abiturient.ru/forum/forum9/topic223/?PAGEN_1=4\",\n",
    "                  \"Прием документов_5\":\"https://www.abiturient.ru/forum/forum9/topic223/?PAGEN_1=5\",\n",
    "                  \"Правила приема_1\":\"https://www.abiturient.ru/forum/forum9/topic241/?PAGEN_1=1\",\n",
    "                  \"Правила приема_2\":\"https://www.abiturient.ru/forum/forum9/topic241/?PAGEN_1=2\",\n",
    "                  \"Списки оригиналов_1\":\"https://www.abiturient.ru/forum/forum9/topic230/?PAGEN_1=1\",\n",
    "                  \"Списки оригиналов_2\":\"https://www.abiturient.ru/forum/forum9/topic230/?PAGEN_1=2\",\n",
    "                  \"Зачисление в 2 волны_1\":\"https://www.abiturient.ru/forum/forum9/topic186/?PAGEN_1=1\",\n",
    "                  \"Зачисление в 2 волны_2\":\"https://www.abiturient.ru/forum/forum9/topic186/?PAGEN_1=2\",\n",
    "                  \"Зачисление в 2 волны_3\":\"https://www.abiturient.ru/forum/forum9/topic186/?PAGEN_1=3\",\n",
    "                  \"Заявление почтой_1\":\"https://www.abiturient.ru/forum/forum9/topic467/?PAGEN_1=1\",\n",
    "                  \"Заявление почтой_2\":\"https://www.abiturient.ru/forum/forum9/topic467/?PAGEN_1=2\",\n",
    "                  \"Заявление почтой_3\":\"https://www.abiturient.ru/forum/forum9/topic467/?PAGEN_1=3\",\n",
    "                  \"Документы в приемную комиссию_1\":\"https://www.abiturient.ru/forum/forum9/topic159/?PAGEN_1=1\",\n",
    "                  \"Документы в приемную комиссию_2\":\"https://www.abiturient.ru/forum/forum9/topic159/?PAGEN_1=2\",\n",
    "                  \"Документы в приемную комиссию_3\":\"https://www.abiturient.ru/forum/forum9/topic159/?PAGEN_1=3\",\n",
    "                  \"Документы в приемную комиссию_4\":\"https://www.abiturient.ru/forum/forum9/topic159/?PAGEN_1=4\",\n",
    "                  \"Документы в приемную комиссию_5\":\"https://www.abiturient.ru/forum/forum9/topic159/?PAGEN_1=5\",\n",
    "                  \"Документы в приемную комиссию_6\":\"https://www.abiturient.ru/forum/forum9/topic159/?PAGEN_1=6\",\n",
    "                  \"Документы в приемную комиссию_7\":\"https://www.abiturient.ru/forum/forum9/topic159/?PAGEN_1=7\",\n",
    "                  \"Документы в приемную комиссию_8\":\"https://www.abiturient.ru/forum/forum9/topic159/?PAGEN_1=8\",\n",
    "                  \"Список рекомендованных_1\":\"https://www.abiturient.ru/forum/forum9/topic266/?PAGEN_1=1\",\n",
    "                  \"Список рекомендованных_2\":\"https://www.abiturient.ru/forum/forum9/topic266/?PAGEN_1=2\",\n",
    "                  \"Список рекомендованных_3\":\"https://www.abiturient.ru/forum/forum9/topic266/?PAGEN_1=3\",\n",
    "                  \"Список рекомендованных_4\":\"https://www.abiturient.ru/forum/forum9/topic266/?PAGEN_1=4\",\n",
    "                  \"Список рекомендованных_5\":\"https://www.abiturient.ru/forum/forum9/topic266/?PAGEN_1=5\",\n",
    "                  \"Список рекомендованных_1\":\"https://www.abiturient.ru/forum/forum9/topic427/?PAGEN_1=1\",\n",
    "                  \"Список рекомендованных_2\":\"https://www.abiturient.ru/forum/forum9/topic427/?PAGEN_1=2\",\n",
    "                  \"Список рекомендованных_3\":\"https://www.abiturient.ru/forum/forum9/topic427/?PAGEN_1=3\",\n",
    "                  \"Проходные баллы 2010_1\":\"https://www.abiturient.ru/forum/forum6/topic157/?PAGEN_1=1\",\n",
    "                  \"Проходные баллы 2010_2\":\"https://www.abiturient.ru/forum/forum6/topic157/?PAGEN_1=2\",\n",
    "                  \"Проходные баллы 2010_3\":\"https://www.abiturient.ru/forum/forum6/topic157/?PAGEN_1=3\",\n",
    "                  \"Проходные баллы 2010_4\":\"https://www.abiturient.ru/forum/forum6/topic157/?PAGEN_1=4\",\n",
    "                  \"Проходные баллы 2010_5\":\"https://www.abiturient.ru/forum/forum6/topic157/?PAGEN_1=5\",\n",
    "                  \"Экзамены_1\":\"https://www.abiturient.ru/forum/forum6/topic66/?PAGEN_1=1\",\n",
    "                  \"Экзамены_2\":\"https://www.abiturient.ru/forum/forum6/topic66/?PAGEN_1=2\",\n",
    "                  \"Экзамены_3\":\"https://www.abiturient.ru/forum/forum6/topic66/?PAGEN_1=3\",\n",
    "                  \"Экзамены_4\":\"https://www.abiturient.ru/forum/forum6/topic66/?PAGEN_1=4\",\n",
    "                  \"Проходные баллы 2011_1\":\"https://www.abiturient.ru/forum/forum6/topic412/?PAGEN_1=1\",\n",
    "                  \"Проходные баллы 2011_2\":\"https://www.abiturient.ru/forum/forum6/topic412/?PAGEN_1=2\",\n",
    "                  \"Проходные баллы 2011_3\":\"https://www.abiturient.ru/forum/forum6/topic412/?PAGEN_1=3\",\n",
    "                  \"Проходные баллы 2011_4\":\"https://www.abiturient.ru/forum/forum6/topic412/?PAGEN_1=4\",\n",
    "                  \"Поступление_1\":\"https://www.abiturient.ru/forum/forum6/topic649/?PAGEN_1=1\",\n",
    "                  \"Поступление_2\":\"https://www.abiturient.ru/forum/forum6/topic649/?PAGEN_1=2\",\n",
    "                  \"Вступительные экзамены_1\":\"https://www.abiturient.ru/forum/forum6/topic528/?PAGEN_1=1\",\n",
    "                  \"Вступительные экзамены_2\":\"https://www.abiturient.ru/forum/forum6/topic528/?PAGEN_1=2\",\n",
    "                  \"Списки рекомендованных_1\":\"https://www.abiturient.ru/forum/forum6/topic640/?PAGEN_1=1\",\n",
    "                  \"Списки рекомендованных_2\":\"https://www.abiturient.ru/forum/forum6/topic640/?PAGEN_1=2\",\n",
    "                  \"ЕГЭ\":\"https://www.abiturient.ru/forum/forum6/topic710/\",\n",
    "                  \"Проходной балл\":\"https://www.abiturient.ru/forum/forum6/topic736/\",\n",
    "                  \"Поступление_1\":\"https://www.abiturient.ru/forum/forum6/topic436/?PAGEN_1=1\",\n",
    "                  \"Поступление_2\":\"https://www.abiturient.ru/forum/forum6/topic436/?PAGEN_1=2\",\n",
    "                  \"Поступление_3\":\"https://www.abiturient.ru/forum/forum6/topic436/?PAGEN_1=3\",\n",
    "                  \"Поступление_4\":\"https://www.abiturient.ru/forum/forum6/topic436/?PAGEN_1=4\",\n",
    "                  \"Поступление_5\":\"https://www.abiturient.ru/forum/forum6/topic436/?PAGEN_1=5\",\n",
    "                  \"Поступление_6\":\"https://www.abiturient.ru/forum/forum6/topic436/?PAGEN_1=6\",\n",
    "                  \"Поступление_7\":\"https://www.abiturient.ru/forum/forum6/topic436/?PAGEN_1=7\",\n",
    "                  \"Поступление_8\":\"https://www.abiturient.ru/forum/forum6/topic944/\",\n",
    "                  \"Списки поступающих_1\":\"https://www.abiturient.ru/forum/forum6/topic890/?PAGEN_1=1\",\n",
    "                  \"Списки поступающих_2\":\"https://www.abiturient.ru/forum/forum6/topic890/?PAGEN_1=2\",\n",
    "                  \"Конкурс_1\":\"https://www.abiturient.ru/forum/forum6/topic1079/?PAGEN_1=4\",\n",
    "                  \"Конкурс_2\":\"https://www.abiturient.ru/forum/forum6/topic1079/?PAGEN_1=4\",\n",
    "                  \"Конкурс_3\":\"https://www.abiturient.ru/forum/forum6/topic1079/?PAGEN_1=4\",\n",
    "                  \"Конкурс_4\":\"https://www.abiturient.ru/forum/forum6/topic1079/?PAGEN_1=4\",\n",
    "                  \"Поступление 2015_1\":\"https://www.abiturient.ru/forum/forum6/topic995/?PAGEN_1=1\",\n",
    "                  \"Поступление 2015_2\":\"https://www.abiturient.ru/forum/forum6/topic995/?PAGEN_1=2\",\n",
    "                  \"Поступление 2015_3\":\"https://www.abiturient.ru/forum/forum6/topic995/?PAGEN_1=3\",\n",
    "                  \"Целевой набор_1\":\"https://www.abiturient.ru/forum/forum6/topic109/?PAGEN_1=1\",\n",
    "                  \"Целевой набор_2\":\"https://www.abiturient.ru/forum/forum6/topic109/?PAGEN_1=2\",\n",
    "                  \"Целевой набор_3\":\"https://www.abiturient.ru/forum/forum6/topic109/?PAGEN_1=3\",\n",
    "                  \"Целевой набор_4\":\"https://www.abiturient.ru/forum/forum6/topic109/?PAGEN_1=4\",\n",
    "                  \"Целевой набор_5\":\"https://www.abiturient.ru/forum/forum6/topic109/?PAGEN_1=5\",\n",
    "                  \"Целевой набор_6\":\"https://www.abiturient.ru/forum/forum6/topic109/?PAGEN_1=6\",\n",
    "                  \"Общежитие\":\"https://www.abiturient.ru/forum/forum6/topic2863/\",\n",
    "                  \"Стипендия\":\"https://www.abiturient.ru/forum/forum16/topic226/\",\n",
    "                  \"Конкурс общежитие_1\":\"https://www.abiturient.ru/forum/forum8/topic277/?PAGEN_1=1\",\n",
    "                  \"Конкурс общежитие_2\":\"https://www.abiturient.ru/forum/forum8/topic277/?PAGEN_1=2\",\n",
    "                  \"Проживание_1\":\"https://www.abiturient.ru/forum/forum8/topic189/?PAGEN_1=1\",\n",
    "                  \"Проживание_2\":\"https://www.abiturient.ru/forum/forum8/topic189/?PAGEN_1=2\",\n",
    "                  \"Общежитие_1\":\"https://www.abiturient.ru/forum/forum8/topic1100/?PAGEN_1=1\",\n",
    "                  \"Общежитие_2\":\"https://www.abiturient.ru/forum/forum8/topic1100/?PAGEN_1=2\",\n",
    "                  \"Общежитие_3\":\"https://www.abiturient.ru/forum/forum8/topic1100/?PAGEN_1=3\",\n",
    "                  \"Общежитие_4\":\"https://www.abiturient.ru/forum/forum8/topic1100/?PAGEN_1=4\",\n",
    "                  \"Предоставление общежития_1\":\"https://www.abiturient.ru/forum/forum8/topic65/?PAGEN_1=1\",\n",
    "                  \"Предоставление общежития_2\":\"https://www.abiturient.ru/forum/forum8/topic65/?PAGEN_1=2\",\n",
    "                  \"Вопросы общежития_1\":\"https://www.abiturient.ru/forum/forum8/topic1120/?PAGEN_1=1\",\n",
    "                  \"Вопросы общежития_2\":\"https://www.abiturient.ru/forum/forum8/topic1120/?PAGEN_1=2\",\n",
    "                  \"Структура_1\":\"https://www.abiturient.ru/forum/forum23/topic489/?PAGEN_1=1\",\n",
    "                  \"Структура_2\":\"https://www.abiturient.ru/forum/forum23/topic489/?PAGEN_1=2\",\n",
    "                 }"
   ]
  },
  {
   "cell_type": "code",
   "execution_count": 9,
   "metadata": {},
   "outputs": [],
   "source": [
    "questions = []\n",
    "\n",
    "for link in label_url_dict.keys(): #для каждой URL в словаре\n",
    "    url = label_url_dict[link]\n",
    "    page = urllib.request.urlopen(url)\n",
    "    soup = BeautifulSoup(page, 'html.parser') #получаем страницу\n",
    "    \n",
    "    messages = soup.findAll('div', attrs={'class': 'forum-post-text'}) #берем то, что надо (сообщения)\n",
    "    for m in messages: #для каждого сообщения\n",
    "        if 'div' not in str(m.contents[0]) and '?' in str(m.contents[0]): #Если не цитата и вопрос\n",
    "            questions.append(m.contents)"
   ]
  },
  {
   "cell_type": "code",
   "execution_count": 11,
   "metadata": {},
   "outputs": [
    {
     "name": "stdout",
     "output_type": "stream",
     "text": [
      "585\n"
     ]
    }
   ],
   "source": [
    "print(len(questions))"
   ]
  },
  {
   "cell_type": "code",
   "execution_count": null,
   "metadata": {},
   "outputs": [],
   "source": []
  }
 ],
 "metadata": {
  "kernelspec": {
   "display_name": "Python 3",
   "language": "python",
   "name": "python3"
  },
  "language_info": {
   "codemirror_mode": {
    "name": "ipython",
    "version": 3
   },
   "file_extension": ".py",
   "mimetype": "text/x-python",
   "name": "python",
   "nbconvert_exporter": "python",
   "pygments_lexer": "ipython3",
   "version": "3.6.5"
  }
 },
 "nbformat": 4,
 "nbformat_minor": 2
}
