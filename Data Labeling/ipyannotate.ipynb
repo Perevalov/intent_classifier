{
 "cells": [
  {
   "cell_type": "code",
   "execution_count": 1,
   "metadata": {},
   "outputs": [],
   "source": [
    "import os\n",
    "from collections import namedtuple"
   ]
  },
  {
   "cell_type": "code",
   "execution_count": 18,
   "metadata": {},
   "outputs": [],
   "source": [
    "Record = namedtuple(\n",
    "    'Record',\n",
    "    ['number', 'question']\n",
    ")\n",
    "\n",
    "\n",
    "def load_lines(path):\n",
    "    with open(path) as file:\n",
    "        for line in file:\n",
    "            yield line.rstrip('\\n')\n",
    "\n",
    "\n",
    "def load_data(fname):\n",
    "    screenshots = {}\n",
    "    host_markers = {}\n",
    "    with open(fname, \"r\",encoding='utf8') as f:\n",
    "        content = f.readlines()\n",
    "    c = 0\n",
    "    for con in content:\n",
    "        yield Record(c, con.rstrip('\\n'))\n",
    "        c+=1\n",
    "\n",
    "        \n",
    "data = sorted(load_data('..//Data//abiturient.ru.txt'))"
   ]
  },
  {
   "cell_type": "code",
   "execution_count": 19,
   "metadata": {},
   "outputs": [
    {
     "data": {
      "text/plain": [
       "'Какие абитуриенты в первую очередь проходят на бюджет:те,у кого балл выше или кто первым подал оригинал?То есть я попадаю на бюджет по балам и приношу копию аттестата,но оригиналов аттестатов принесено больше чем бюджетных мест.Список поступивших составляется из тех,кто принёс оригинал и уже потом их баллы сравнивают или балл имеет решающее значение принёс ты оригинал или нет?'"
      ]
     },
     "execution_count": 19,
     "metadata": {},
     "output_type": "execute_result"
    }
   ],
   "source": [
    "data[2].question"
   ]
  },
  {
   "cell_type": "code",
   "execution_count": 21,
   "metadata": {},
   "outputs": [],
   "source": [
    "from IPython.display import display\n",
    "\n",
    "\n",
    "def display_record(record):\n",
    "    print(record.question)"
   ]
  },
  {
   "cell_type": "code",
   "execution_count": 30,
   "metadata": {},
   "outputs": [],
   "source": [
    "from ipyannotate.buttons import (\n",
    "    ValueButton as Button,\n",
    "    NextButton as Next,\n",
    "    BackButton as Back\n",
    ")\n",
    "from ipyannotate.toolbar import Toolbar\n",
    "from ipyannotate.tasks import Task, Tasks\n",
    "from ipyannotate.canvas import OutputCanvas\n",
    "from ipyannotate.annotation import Annotation\n",
    "\n",
    "\n",
    "tasks = Tasks(Task(_) for _ in data)\n",
    "buttons = [\n",
    "    Button('DOC', shortcut='1'),\n",
    "    Button('ENTER', shortcut='2'),\n",
    "    Button('ORG', shortcut='3'),\n",
    "    Button('PRIV', shortcut='4'),\n",
    "    Button('RANG', shortcut='5'),\n",
    "    Button('ISSUE', shortcut='6'),\n",
    "]\n",
    "controls = [\n",
    "    Back(),\n",
    "    Next()\n",
    "]"
   ]
  },
  {
   "cell_type": "code",
   "execution_count": 31,
   "metadata": {},
   "outputs": [
    {
     "data": {
      "application/vnd.jupyter.widget-view+json": {
       "model_id": "45ba37c01dee4111a49a0e86cefa2cc8",
       "version_major": 2,
       "version_minor": 0
      },
      "text/plain": [
       "Annotation(canvas=OutputCanvas(), progress=Progress(atoms=[<ipyannotate.progress.Atom object at 0x00000251F9DD…"
      ]
     },
     "metadata": {},
     "output_type": "display_data"
    }
   ],
   "source": [
    "toolbar = Toolbar(buttons + controls)\n",
    "canvas = OutputCanvas(display=display_record)\n",
    "annotation = Annotation(toolbar, tasks, canvas=canvas)\n",
    "annotation"
   ]
  },
  {
   "cell_type": "code",
   "execution_count": 24,
   "metadata": {},
   "outputs": [
    {
     "data": {
      "text/plain": [
       "[Task(output=Record(number=0, question='Здравствуйте, мед.справку нужно нести только вместе с..., value=None),\n",
       " Task(output=Record(number=1, question='сколько дней рассматривают заявление в приемной комис..., value=None),\n",
       " Task(output=Record(number=2, question='Какие абитуриенты в первую очередь проходят на бюджет..., value=None),\n",
       " Task(output=Record(number=3, question='я подавала документы в электронном виде но до сих пор..., value=None),\n",
       " Task(output=Record(number=4, question='Какие документы нужно отправить по почте?'), value=None),\n",
       " Task(output=Record(number=5, question='Подскажите пожалуйста, я послала документы по почте н..., value=None),\n",
       " Task(output=Record(number=6, question='Подскажите, обязательно ли заполнять анкету на сайте ..., value=None),\n",
       " Task(output=Record(number=7, question='Здравствуйте, подскажите, пожалуйста, у вас есть прим..., value=None),\n",
       " Task(output=Record(number=8, question='Здравствуйте. У меня на сайте в списках, подавших зая..., value=None),\n",
       " Task(output=Record(number=9, question='Здравствуйте! При формировании списка рекомендованных..., value=None)]"
      ]
     },
     "execution_count": 24,
     "metadata": {},
     "output_type": "execute_result"
    }
   ],
   "source": [
    "annotation.tasks[:10]"
   ]
  },
  {
   "cell_type": "code",
   "execution_count": null,
   "metadata": {},
   "outputs": [],
   "source": []
  }
 ],
 "metadata": {
  "kernelspec": {
   "display_name": "Python 3",
   "language": "python",
   "name": "python3"
  },
  "language_info": {
   "codemirror_mode": {
    "name": "ipython",
    "version": 3
   },
   "file_extension": ".py",
   "mimetype": "text/x-python",
   "name": "python",
   "nbconvert_exporter": "python",
   "pygments_lexer": "ipython3",
   "version": "3.6.5"
  }
 },
 "nbformat": 4,
 "nbformat_minor": 2
}
